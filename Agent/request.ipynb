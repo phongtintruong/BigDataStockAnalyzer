{
 "cells": [
  {
   "cell_type": "code",
   "execution_count": 1,
   "metadata": {
    "ExecuteTime": {
     "end_time": "2023-12-11T13:09:17.664655200Z",
     "start_time": "2023-12-11T13:09:16.741653100Z"
    }
   },
   "outputs": [],
   "source": [
    "import requests\n",
    "import pandas as pd"
   ]
  },
  {
   "cell_type": "markdown",
   "metadata": {},
   "source": [
    "## Let say\n",
    "\n",
    "Let say, TWTR.csv is my realtime data (follow [realtime-evolution-strategy.ipynb](realtime-evolution-strategy.ipynb)), remember, we trained using `Close`, and `Volume` data.\n",
    "\n",
    "So every request means new daily data.\n",
    "\n",
    "You can improve the code to bind historical data with your own database or any websocket streaming data. Imagination is your limit now."
   ]
  },
  {
   "cell_type": "code",
   "execution_count": 2,
   "metadata": {
    "ExecuteTime": {
     "end_time": "2023-12-11T13:09:24.114351300Z",
     "start_time": "2023-12-11T13:09:24.070777Z"
    }
   },
   "outputs": [
    {
     "data": {
      "text/plain": "         Date       Open       High        Low      Close  Adj Close    Volume\n0  2018-05-23  32.700001  33.430000  32.599998  33.419998  33.419998  13407500\n1  2018-05-24  33.439999  33.759998  33.119999  33.520000  33.520000  14491900\n2  2018-05-25  33.540001  33.990002  33.310001  33.630001  33.630001  10424400\n3  2018-05-29  33.419998  34.830002  33.349998  34.040001  34.040001  22086700\n4  2018-05-30  34.200001  34.660000  34.080002  34.360001  34.360001  14588200",
      "text/html": "<div>\n<style scoped>\n    .dataframe tbody tr th:only-of-type {\n        vertical-align: middle;\n    }\n\n    .dataframe tbody tr th {\n        vertical-align: top;\n    }\n\n    .dataframe thead th {\n        text-align: right;\n    }\n</style>\n<table border=\"1\" class=\"dataframe\">\n  <thead>\n    <tr style=\"text-align: right;\">\n      <th></th>\n      <th>Date</th>\n      <th>Open</th>\n      <th>High</th>\n      <th>Low</th>\n      <th>Close</th>\n      <th>Adj Close</th>\n      <th>Volume</th>\n    </tr>\n  </thead>\n  <tbody>\n    <tr>\n      <th>0</th>\n      <td>2018-05-23</td>\n      <td>32.700001</td>\n      <td>33.430000</td>\n      <td>32.599998</td>\n      <td>33.419998</td>\n      <td>33.419998</td>\n      <td>13407500</td>\n    </tr>\n    <tr>\n      <th>1</th>\n      <td>2018-05-24</td>\n      <td>33.439999</td>\n      <td>33.759998</td>\n      <td>33.119999</td>\n      <td>33.520000</td>\n      <td>33.520000</td>\n      <td>14491900</td>\n    </tr>\n    <tr>\n      <th>2</th>\n      <td>2018-05-25</td>\n      <td>33.540001</td>\n      <td>33.990002</td>\n      <td>33.310001</td>\n      <td>33.630001</td>\n      <td>33.630001</td>\n      <td>10424400</td>\n    </tr>\n    <tr>\n      <th>3</th>\n      <td>2018-05-29</td>\n      <td>33.419998</td>\n      <td>34.830002</td>\n      <td>33.349998</td>\n      <td>34.040001</td>\n      <td>34.040001</td>\n      <td>22086700</td>\n    </tr>\n    <tr>\n      <th>4</th>\n      <td>2018-05-30</td>\n      <td>34.200001</td>\n      <td>34.660000</td>\n      <td>34.080002</td>\n      <td>34.360001</td>\n      <td>34.360001</td>\n      <td>14588200</td>\n    </tr>\n  </tbody>\n</table>\n</div>"
     },
     "execution_count": 2,
     "metadata": {},
     "output_type": "execute_result"
    }
   ],
   "source": [
    "df = pd.read_csv('TWTR.csv')\n",
    "df.head()"
   ]
  },
  {
   "cell_type": "code",
   "execution_count": 3,
   "metadata": {
    "ExecuteTime": {
     "end_time": "2023-12-11T13:09:28.307647900Z",
     "start_time": "2023-12-11T13:09:28.299657200Z"
    }
   },
   "outputs": [],
   "source": [
    "close = df['Close'].tolist()\n",
    "volume = df['Volume'].tolist()"
   ]
  },
  {
   "cell_type": "markdown",
   "metadata": {},
   "source": [
    "## Check balance"
   ]
  },
  {
   "cell_type": "code",
   "execution_count": 4,
   "metadata": {
    "ExecuteTime": {
     "end_time": "2023-12-11T13:09:36.980002800Z",
     "start_time": "2023-12-11T13:09:34.902504300Z"
    }
   },
   "outputs": [
    {
     "data": {
      "text/plain": "93.519996"
     },
     "execution_count": 4,
     "metadata": {},
     "output_type": "execute_result"
    }
   ],
   "source": [
    "requests.get('http://localhost:8005/balance').json()"
   ]
  },
  {
   "cell_type": "markdown",
   "metadata": {},
   "source": [
    "This is the initial capital we have for now, you can check [agent.ipynb](https://github.com/huseinzol05/Stock-Prediction-Models/blob/master/realtime-agent/agent.ipynb) how I defined it, or you can overwrite it."
   ]
  },
  {
   "cell_type": "markdown",
   "metadata": {},
   "source": [
    "## Trading"
   ]
  },
  {
   "cell_type": "code",
   "execution_count": 8,
   "metadata": {
    "ExecuteTime": {
     "end_time": "2023-12-11T14:36:37.051882900Z",
     "start_time": "2023-12-11T14:36:37.033360400Z"
    }
   },
   "outputs": [
    {
     "data": {
      "text/plain": "'[33.419998, 13407500]'"
     },
     "execution_count": 8,
     "metadata": {},
     "output_type": "execute_result"
    }
   ],
   "source": [
    "import json\n",
    "\n",
    "data = json.dumps([close[0], volume[0]])\n",
    "data"
   ]
  },
  {
   "cell_type": "markdown",
   "metadata": {},
   "source": [
    "Remember, my last training session was only used `Close` and `Volume`, you need to edit it to accept any kind of parameters."
   ]
  },
  {
   "cell_type": "code",
   "execution_count": 20,
   "metadata": {
    "ExecuteTime": {
     "end_time": "2023-12-11T14:41:14.272208Z",
     "start_time": "2023-12-11T14:41:12.221789400Z"
    }
   },
   "outputs": [
    {
     "data": {
      "text/plain": "{'action': 'buy',\n 'balance': 48.20999699999998,\n 'status': 'buy 1 unit, cost 33.419998',\n 'timestamp': '2023-12-11 21:41:14.255687'}"
     },
     "execution_count": 20,
     "metadata": {},
     "output_type": "execute_result"
    }
   ],
   "source": [
    "requests.get('http://localhost:8005/trade?data='+data).json()"
   ]
  },
  {
   "cell_type": "markdown",
   "metadata": {},
   "source": [
    "Reason why you got 'data not enough to trade', because, the agent waiting another data to complete the queue, atleast same as `window_size` size.\n",
    "\n",
    "Last time I defined `window_size` is 20, means, it only look back 20 historical data to trade."
   ]
  },
  {
   "cell_type": "markdown",
   "metadata": {},
   "source": [
    "Assume now, you have 100 times new datapoints going in, you want to trade these datapoints."
   ]
  },
  {
   "cell_type": "code",
   "execution_count": 7,
   "metadata": {
    "ExecuteTime": {
     "end_time": "2023-12-11T13:17:07.397271500Z",
     "start_time": "2023-12-11T13:10:18.009201800Z"
    }
   },
   "outputs": [
    {
     "name": "stdout",
     "output_type": "stream",
     "text": [
      "{'action': 'fail', 'balance': 93.519996, 'status': 'data not enough to trade', 'timestamp': '2023-12-11 20:10:20.047535'}\n",
      "{'action': 'fail', 'balance': 93.519996, 'status': 'data not enough to trade', 'timestamp': '2023-12-11 20:10:22.095796'}\n",
      "{'action': 'fail', 'balance': 93.519996, 'status': 'data not enough to trade', 'timestamp': '2023-12-11 20:10:24.149949'}\n",
      "{'action': 'fail', 'balance': 93.519996, 'status': 'data not enough to trade', 'timestamp': '2023-12-11 20:10:26.204091'}\n",
      "{'action': 'fail', 'balance': 93.519996, 'status': 'data not enough to trade', 'timestamp': '2023-12-11 20:10:28.242555'}\n",
      "{'action': 'fail', 'balance': 93.519996, 'status': 'data not enough to trade', 'timestamp': '2023-12-11 20:10:30.286065'}\n",
      "{'action': 'fail', 'balance': 93.519996, 'status': 'data not enough to trade', 'timestamp': '2023-12-11 20:10:32.341804'}\n",
      "{'action': 'fail', 'balance': 93.519996, 'status': 'data not enough to trade', 'timestamp': '2023-12-11 20:10:34.398008'}\n",
      "{'action': 'fail', 'balance': 93.519996, 'status': 'data not enough to trade', 'timestamp': '2023-12-11 20:10:36.434689'}\n",
      "{'action': 'fail', 'balance': 93.519996, 'status': 'data not enough to trade', 'timestamp': '2023-12-11 20:10:38.475821'}\n",
      "{'action': 'fail', 'balance': 93.519996, 'status': 'data not enough to trade', 'timestamp': '2023-12-11 20:10:40.527683'}\n",
      "{'action': 'fail', 'balance': 93.519996, 'status': 'data not enough to trade', 'timestamp': '2023-12-11 20:10:42.584932'}\n",
      "{'action': 'fail', 'balance': 93.519996, 'status': 'data not enough to trade', 'timestamp': '2023-12-11 20:10:44.642600'}\n",
      "{'action': 'fail', 'balance': 93.519996, 'status': 'data not enough to trade', 'timestamp': '2023-12-11 20:10:46.704982'}\n",
      "{'action': 'fail', 'balance': 93.519996, 'status': 'data not enough to trade', 'timestamp': '2023-12-11 20:10:48.756081'}\n",
      "{'action': 'fail', 'balance': 93.519996, 'status': 'data not enough to trade', 'timestamp': '2023-12-11 20:10:50.794168'}\n",
      "{'action': 'fail', 'balance': 93.519996, 'status': 'data not enough to trade', 'timestamp': '2023-12-11 20:10:52.820216'}\n",
      "{'action': 'fail', 'balance': 93.519996, 'status': 'data not enough to trade', 'timestamp': '2023-12-11 20:10:54.855320'}\n",
      "{'action': 'buy', 'balance': 48.569995000000006, 'status': 'buy 1 unit, cost 44.950001', 'timestamp': '2023-12-11 20:10:56.918880'}\n",
      "{'action': 'buy', 'balance': 2.4399940000000058, 'status': 'buy 1 unit, cost 46.130001', 'timestamp': '2023-12-11 20:10:58.984114'}\n",
      "{'action': 'nothing', 'balance': 2.4399940000000058, 'status': 'do nothing', 'timestamp': '2023-12-11 20:11:01.042919'}\n",
      "{'action': 'nothing', 'balance': 2.4399940000000058, 'status': 'do nothing', 'timestamp': '2023-12-11 20:11:03.096950'}\n",
      "{'action': 'nothing', 'balance': 2.4399940000000058, 'status': 'do nothing', 'timestamp': '2023-12-11 20:11:05.150322'}\n",
      "{'action': 'nothing', 'balance': 2.4399940000000058, 'status': 'do nothing', 'timestamp': '2023-12-11 20:11:07.200550'}\n",
      "{'action': 'nothing', 'balance': 2.4399940000000058, 'status': 'do nothing', 'timestamp': '2023-12-11 20:11:09.239772'}\n",
      "{'action': 'nothing', 'balance': 2.4399940000000058, 'status': 'do nothing', 'timestamp': '2023-12-11 20:11:11.285482'}\n",
      "{'action': 'nothing', 'balance': 2.4399940000000058, 'status': 'do nothing', 'timestamp': '2023-12-11 20:11:13.335047'}\n",
      "{'action': 'nothing', 'balance': 2.4399940000000058, 'status': 'do nothing', 'timestamp': '2023-12-11 20:11:15.391768'}\n",
      "{'action': 'nothing', 'balance': 2.4399940000000058, 'status': 'do nothing', 'timestamp': '2023-12-11 20:11:17.436113'}\n",
      "{'action': 'nothing', 'balance': 2.4399940000000058, 'status': 'do nothing', 'timestamp': '2023-12-11 20:11:19.483834'}\n",
      "{'action': 'nothing', 'balance': 2.4399940000000058, 'status': 'do nothing', 'timestamp': '2023-12-11 20:11:21.530626'}\n",
      "{'action': 'nothing', 'balance': 2.4399940000000058, 'status': 'do nothing', 'timestamp': '2023-12-11 20:11:23.582497'}\n",
      "{'action': 'nothing', 'balance': 2.4399940000000058, 'status': 'do nothing', 'timestamp': '2023-12-11 20:11:25.627217'}\n",
      "{'action': 'nothing', 'balance': 2.4399940000000058, 'status': 'do nothing', 'timestamp': '2023-12-11 20:11:27.667516'}\n",
      "{'action': 'nothing', 'balance': 2.4399940000000058, 'status': 'do nothing', 'timestamp': '2023-12-11 20:11:29.716576'}\n",
      "{'action': 'nothing', 'balance': 2.4399940000000058, 'status': 'do nothing', 'timestamp': '2023-12-11 20:11:31.754624'}\n",
      "{'action': 'sell', 'balance': 46.69999200000001, 'gain': -0.6900029999999973, 'investment': -1.535045572079069, 'status': 'sell 1 unit, price 44.259998', 'timestamp': '2023-12-11 20:11:33.799550'}\n",
      "{'action': 'buy', 'balance': 1.9899930000000055, 'status': 'buy 1 unit, cost 44.709999', 'timestamp': '2023-12-11 20:11:35.824459'}\n",
      "{'action': 'sell', 'balance': 45.32999300000001, 'gain': -2.7900009999999966, 'investment': -6.048126901189525, 'status': 'sell 1 unit, price 43.340000', 'timestamp': '2023-12-11 20:11:37.861758'}\n",
      "{'action': 'sell', 'balance': 88.769992, 'gain': -1.2700000000000031, 'investment': -2.8405279096517155, 'status': 'sell 1 unit, price 43.439999', 'timestamp': '2023-12-11 20:11:39.914688'}\n",
      "{'action': 'buy', 'balance': 45.349994, 'status': 'buy 1 unit, cost 43.419998', 'timestamp': '2023-12-11 20:11:41.961786'}\n",
      "{'action': 'nothing', 'balance': 45.349994, 'status': 'do nothing', 'timestamp': '2023-12-11 20:11:44.013899'}\n",
      "{'action': 'nothing', 'balance': 45.349994, 'status': 'do nothing', 'timestamp': '2023-12-11 20:11:46.063327'}\n",
      "{'action': 'sell', 'balance': 89.569995, 'gain': 0.8000030000000038, 'investment': 1.8424759024632011, 'status': 'sell 1 unit, price 44.220001', 'timestamp': '2023-12-11 20:11:48.104755'}\n",
      "{'action': 'nothing', 'balance': 89.569995, 'status': 'do nothing', 'timestamp': '2023-12-11 20:11:50.132098'}\n",
      "{'action': 'nothing', 'balance': 89.569995, 'status': 'do nothing', 'timestamp': '2023-12-11 20:11:52.158930'}\n",
      "{'action': 'nothing', 'balance': 89.569995, 'status': 'do nothing', 'timestamp': '2023-12-11 20:11:54.219521'}\n",
      "{'action': 'buy', 'balance': 57.699994000000004, 'status': 'buy 1 unit, cost 31.870001', 'timestamp': '2023-12-11 20:11:56.261220'}\n",
      "{'action': 'nothing', 'balance': 57.699994000000004, 'status': 'do nothing', 'timestamp': '2023-12-11 20:11:58.307418'}\n",
      "{'action': 'sell', 'balance': 90.519994, 'gain': 0.9499989999999983, 'investment': 2.980856511425896, 'status': 'sell 1 unit, price 32.820000', 'timestamp': '2023-12-11 20:12:00.331322'}\n",
      "{'action': 'nothing', 'balance': 90.519994, 'status': 'do nothing', 'timestamp': '2023-12-11 20:12:02.363733'}\n",
      "{'action': 'nothing', 'balance': 90.519994, 'status': 'do nothing', 'timestamp': '2023-12-11 20:12:04.404854'}\n",
      "{'action': 'nothing', 'balance': 90.519994, 'status': 'do nothing', 'timestamp': '2023-12-11 20:12:06.440611'}\n",
      "{'action': 'nothing', 'balance': 90.519994, 'status': 'do nothing', 'timestamp': '2023-12-11 20:12:08.480580'}\n",
      "{'action': 'nothing', 'balance': 90.519994, 'status': 'do nothing', 'timestamp': '2023-12-11 20:12:10.525314'}\n",
      "{'action': 'nothing', 'balance': 90.519994, 'status': 'do nothing', 'timestamp': '2023-12-11 20:12:12.565184'}\n",
      "{'action': 'nothing', 'balance': 90.519994, 'status': 'do nothing', 'timestamp': '2023-12-11 20:12:14.613419'}\n",
      "{'action': 'nothing', 'balance': 90.519994, 'status': 'do nothing', 'timestamp': '2023-12-11 20:12:16.660243'}\n",
      "{'action': 'nothing', 'balance': 90.519994, 'status': 'do nothing', 'timestamp': '2023-12-11 20:12:18.724276'}\n",
      "{'action': 'nothing', 'balance': 90.519994, 'status': 'do nothing', 'timestamp': '2023-12-11 20:12:20.777495'}\n",
      "{'action': 'nothing', 'balance': 90.519994, 'status': 'do nothing', 'timestamp': '2023-12-11 20:12:22.812959'}\n",
      "{'action': 'nothing', 'balance': 90.519994, 'status': 'do nothing', 'timestamp': '2023-12-11 20:12:24.862142'}\n",
      "{'action': 'nothing', 'balance': 90.519994, 'status': 'do nothing', 'timestamp': '2023-12-11 20:12:26.911455'}\n",
      "{'action': 'nothing', 'balance': 90.519994, 'status': 'do nothing', 'timestamp': '2023-12-11 20:12:28.959606'}\n",
      "{'action': 'nothing', 'balance': 90.519994, 'status': 'do nothing', 'timestamp': '2023-12-11 20:12:30.992151'}\n",
      "{'action': 'nothing', 'balance': 90.519994, 'status': 'do nothing', 'timestamp': '2023-12-11 20:12:33.051444'}\n",
      "{'action': 'nothing', 'balance': 90.519994, 'status': 'do nothing', 'timestamp': '2023-12-11 20:12:35.088102'}\n",
      "{'action': 'nothing', 'balance': 90.519994, 'status': 'do nothing', 'timestamp': '2023-12-11 20:12:37.135880'}\n",
      "{'action': 'nothing', 'balance': 90.519994, 'status': 'do nothing', 'timestamp': '2023-12-11 20:12:39.204393'}\n",
      "{'action': 'buy', 'balance': 54.879994999999994, 'status': 'buy 1 unit, cost 35.639999', 'timestamp': '2023-12-11 20:12:41.267084'}\n",
      "{'action': 'nothing', 'balance': 54.879994999999994, 'status': 'do nothing', 'timestamp': '2023-12-11 20:12:43.309351'}\n",
      "{'action': 'nothing', 'balance': 54.879994999999994, 'status': 'do nothing', 'timestamp': '2023-12-11 20:12:45.355373'}\n",
      "{'action': 'nothing', 'balance': 54.879994999999994, 'status': 'do nothing', 'timestamp': '2023-12-11 20:12:47.391658'}\n",
      "{'action': 'buy', 'balance': 24.069995999999993, 'status': 'buy 1 unit, cost 30.809999', 'timestamp': '2023-12-11 20:12:49.416415'}\n",
      "{'action': 'buy', 'balance': -6.420004000000006, 'status': 'buy 1 unit, cost 30.490000', 'timestamp': '2023-12-11 20:12:51.463129'}\n",
      "{'action': 'nothing', 'balance': -6.420004000000006, 'status': 'do nothing', 'timestamp': '2023-12-11 20:12:53.509117'}\n",
      "{'action': 'nothing', 'balance': -6.420004000000006, 'status': 'do nothing', 'timestamp': '2023-12-11 20:12:55.555668'}\n",
      "{'action': 'nothing', 'balance': -6.420004000000006, 'status': 'do nothing', 'timestamp': '2023-12-11 20:12:57.601553'}\n",
      "{'action': 'nothing', 'balance': -6.420004000000006, 'status': 'do nothing', 'timestamp': '2023-12-11 20:12:59.629649'}\n",
      "{'action': 'nothing', 'balance': -6.420004000000006, 'status': 'do nothing', 'timestamp': '2023-12-11 20:13:01.699855'}\n",
      "{'action': 'sell', 'balance': 22.439996999999995, 'gain': -6.779998000000003, 'investment': -19.023563945666783, 'status': 'sell 1 unit, price 28.860001', 'timestamp': '2023-12-11 20:13:03.751815'}\n",
      "{'action': 'buy', 'balance': -6.780002000000007, 'status': 'buy 1 unit, cost 29.219999', 'timestamp': '2023-12-11 20:13:05.802532'}\n",
      "{'action': 'sell', 'balance': 22.739997999999993, 'gain': -1.2899990000000017, 'investment': -4.186949178414454, 'status': 'sell 1 unit, price 29.520000', 'timestamp': '2023-12-11 20:13:07.851057'}\n",
      "{'action': 'nothing', 'balance': 22.739997999999993, 'status': 'do nothing', 'timestamp': '2023-12-11 20:13:09.894231'}\n",
      "{'action': 'sell', 'balance': 51.23999799999999, 'gain': -1.990000000000002, 'investment': -6.526730075434576, 'status': 'sell 1 unit, price 28.500000', 'timestamp': '2023-12-11 20:13:11.932868'}\n",
      "{'action': 'sell', 'balance': 79.839998, 'gain': -0.619999, 'investment': -2.121831010329603, 'status': 'sell 1 unit, price 28.600000', 'timestamp': '2023-12-11 20:13:13.980920'}\n",
      "{'action': 'nothing', 'balance': 79.839998, 'status': 'do nothing', 'timestamp': '2023-12-11 20:13:16.031717'}\n",
      "{'action': 'nothing', 'balance': 79.839998, 'status': 'do nothing', 'timestamp': '2023-12-11 20:13:18.079895'}\n",
      "{'action': 'nothing', 'balance': 79.839998, 'status': 'do nothing', 'timestamp': '2023-12-11 20:13:20.133264'}\n",
      "{'action': 'nothing', 'balance': 79.839998, 'status': 'do nothing', 'timestamp': '2023-12-11 20:13:22.185810'}\n",
      "{'action': 'nothing', 'balance': 79.839998, 'status': 'do nothing', 'timestamp': '2023-12-11 20:13:24.239194'}\n",
      "{'action': 'nothing', 'balance': 79.839998, 'status': 'do nothing', 'timestamp': '2023-12-11 20:13:26.291886'}\n",
      "{'action': 'nothing', 'balance': 79.839998, 'status': 'do nothing', 'timestamp': '2023-12-11 20:13:28.341950'}\n",
      "{'action': 'nothing', 'balance': 79.839998, 'status': 'do nothing', 'timestamp': '2023-12-11 20:13:30.392853'}\n",
      "{'action': 'nothing', 'balance': 79.839998, 'status': 'do nothing', 'timestamp': '2023-12-11 20:13:32.443924'}\n",
      "{'action': 'nothing', 'balance': 79.839998, 'status': 'do nothing', 'timestamp': '2023-12-11 20:13:34.488400'}\n",
      "{'action': 'nothing', 'balance': 79.839998, 'status': 'do nothing', 'timestamp': '2023-12-11 20:13:36.539775'}\n",
      "{'action': 'nothing', 'balance': 79.839998, 'status': 'do nothing', 'timestamp': '2023-12-11 20:13:38.591656'}\n",
      "{'action': 'nothing', 'balance': 79.839998, 'status': 'do nothing', 'timestamp': '2023-12-11 20:13:40.633669'}\n",
      "{'action': 'nothing', 'balance': 79.839998, 'status': 'do nothing', 'timestamp': '2023-12-11 20:13:42.678203'}\n",
      "{'action': 'nothing', 'balance': 79.839998, 'status': 'do nothing', 'timestamp': '2023-12-11 20:13:44.731950'}\n",
      "{'action': 'nothing', 'balance': 79.839998, 'status': 'do nothing', 'timestamp': '2023-12-11 20:13:46.773633'}\n",
      "{'action': 'nothing', 'balance': 79.839998, 'status': 'do nothing', 'timestamp': '2023-12-11 20:13:48.814187'}\n",
      "{'action': 'nothing', 'balance': 79.839998, 'status': 'do nothing', 'timestamp': '2023-12-11 20:13:50.864320'}\n",
      "{'action': 'nothing', 'balance': 79.839998, 'status': 'do nothing', 'timestamp': '2023-12-11 20:13:52.912543'}\n",
      "{'action': 'nothing', 'balance': 79.839998, 'status': 'do nothing', 'timestamp': '2023-12-11 20:13:54.957942'}\n",
      "{'action': 'nothing', 'balance': 79.839998, 'status': 'do nothing', 'timestamp': '2023-12-11 20:13:56.997498'}\n",
      "{'action': 'nothing', 'balance': 79.839998, 'status': 'do nothing', 'timestamp': '2023-12-11 20:13:59.049043'}\n",
      "{'action': 'nothing', 'balance': 79.839998, 'status': 'do nothing', 'timestamp': '2023-12-11 20:14:01.088792'}\n",
      "{'action': 'nothing', 'balance': 79.839998, 'status': 'do nothing', 'timestamp': '2023-12-11 20:14:03.132829'}\n",
      "{'action': 'nothing', 'balance': 79.839998, 'status': 'do nothing', 'timestamp': '2023-12-11 20:14:05.169572'}\n",
      "{'action': 'nothing', 'balance': 79.839998, 'status': 'do nothing', 'timestamp': '2023-12-11 20:14:07.216784'}\n",
      "{'action': 'buy', 'balance': 45.089997999999994, 'status': 'buy 1 unit, cost 34.750000', 'timestamp': '2023-12-11 20:14:09.267349'}\n",
      "{'action': 'buy', 'balance': 10.469998999999994, 'status': 'buy 1 unit, cost 34.619999', 'timestamp': '2023-12-11 20:14:11.309810'}\n",
      "{'action': 'sell', 'balance': 44.769997999999994, 'gain': -0.4500010000000003, 'investment': -1.294966906474821, 'status': 'sell 1 unit, price 34.299999', 'timestamp': '2023-12-11 20:14:13.355382'}\n",
      "{'action': 'sell', 'balance': 78.789998, 'gain': -0.5999989999999968, 'investment': -1.7330994145898064, 'status': 'sell 1 unit, price 34.020000', 'timestamp': '2023-12-11 20:14:15.402067'}\n",
      "{'action': 'buy', 'balance': 44.37, 'status': 'buy 1 unit, cost 34.419998', 'timestamp': '2023-12-11 20:14:17.437300'}\n",
      "{'action': 'buy', 'balance': 9.379998, 'status': 'buy 1 unit, cost 34.990002', 'timestamp': '2023-12-11 20:14:19.485358'}\n",
      "{'action': 'nothing', 'balance': 9.379998, 'status': 'do nothing', 'timestamp': '2023-12-11 20:14:21.523576'}\n",
      "{'action': 'nothing', 'balance': 9.379998, 'status': 'do nothing', 'timestamp': '2023-12-11 20:14:23.577773'}\n",
      "{'action': 'nothing', 'balance': 9.379998, 'status': 'do nothing', 'timestamp': '2023-12-11 20:14:25.626160'}\n",
      "{'action': 'nothing', 'balance': 9.379998, 'status': 'do nothing', 'timestamp': '2023-12-11 20:14:27.649762'}\n",
      "{'action': 'nothing', 'balance': 9.379998, 'status': 'do nothing', 'timestamp': '2023-12-11 20:14:29.704677'}\n",
      "{'action': 'nothing', 'balance': 9.379998, 'status': 'do nothing', 'timestamp': '2023-12-11 20:14:31.747797'}\n",
      "{'action': 'nothing', 'balance': 9.379998, 'status': 'do nothing', 'timestamp': '2023-12-11 20:14:33.798489'}\n",
      "{'action': 'nothing', 'balance': 9.379998, 'status': 'do nothing', 'timestamp': '2023-12-11 20:14:35.838677'}\n",
      "{'action': 'nothing', 'balance': 9.379998, 'status': 'do nothing', 'timestamp': '2023-12-11 20:14:37.891820'}\n",
      "{'action': 'nothing', 'balance': 9.379998, 'status': 'do nothing', 'timestamp': '2023-12-11 20:14:39.938171'}\n",
      "{'action': 'nothing', 'balance': 9.379998, 'status': 'do nothing', 'timestamp': '2023-12-11 20:14:41.988145'}\n",
      "{'action': 'nothing', 'balance': 9.379998, 'status': 'do nothing', 'timestamp': '2023-12-11 20:14:44.039601'}\n",
      "{'action': 'nothing', 'balance': 9.379998, 'status': 'do nothing', 'timestamp': '2023-12-11 20:14:46.084446'}\n",
      "{'action': 'nothing', 'balance': 9.379998, 'status': 'do nothing', 'timestamp': '2023-12-11 20:14:48.120841'}\n",
      "{'action': 'nothing', 'balance': 9.379998, 'status': 'do nothing', 'timestamp': '2023-12-11 20:14:50.151025'}\n",
      "{'action': 'nothing', 'balance': 9.379998, 'status': 'do nothing', 'timestamp': '2023-12-11 20:14:52.197812'}\n",
      "{'action': 'sell', 'balance': 43.039998, 'gain': -0.7599980000000031, 'investment': -2.2080129115638036, 'status': 'sell 1 unit, price 33.660000', 'timestamp': '2023-12-11 20:14:54.244032'}\n",
      "{'action': 'nothing', 'balance': 43.039998, 'status': 'do nothing', 'timestamp': '2023-12-11 20:14:56.289211'}\n",
      "{'action': 'sell', 'balance': 75.99999700000001, 'gain': -2.0300029999999936, 'investment': -5.8016658587215675, 'status': 'sell 1 unit, price 32.959999', 'timestamp': '2023-12-11 20:14:58.342223'}\n",
      "{'action': 'nothing', 'balance': 75.99999700000001, 'status': 'do nothing', 'timestamp': '2023-12-11 20:15:00.397022'}\n",
      "{'action': 'nothing', 'balance': 75.99999700000001, 'status': 'do nothing', 'timestamp': '2023-12-11 20:15:02.433439'}\n",
      "{'action': 'nothing', 'balance': 75.99999700000001, 'status': 'do nothing', 'timestamp': '2023-12-11 20:15:04.479313'}\n",
      "{'action': 'nothing', 'balance': 75.99999700000001, 'status': 'do nothing', 'timestamp': '2023-12-11 20:15:06.532860'}\n",
      "{'action': 'buy', 'balance': 40.109998000000004, 'status': 'buy 1 unit, cost 35.889999', 'timestamp': '2023-12-11 20:15:08.578396'}\n",
      "{'action': 'sell', 'balance': 75.979997, 'gain': -0.020000000000003126, 'investment': -0.05572583047439796, 'status': 'sell 1 unit, price 35.869999', 'timestamp': '2023-12-11 20:15:10.614340'}\n",
      "{'action': 'nothing', 'balance': 75.979997, 'status': 'do nothing', 'timestamp': '2023-12-11 20:15:12.672067'}\n",
      "{'action': 'nothing', 'balance': 75.979997, 'status': 'do nothing', 'timestamp': '2023-12-11 20:15:14.712215'}\n",
      "{'action': 'buy', 'balance': 43.049997, 'status': 'buy 1 unit, cost 32.930000', 'timestamp': '2023-12-11 20:15:16.754806'}\n",
      "{'action': 'nothing', 'balance': 43.049997, 'status': 'do nothing', 'timestamp': '2023-12-11 20:15:18.804230'}\n",
      "{'action': 'buy', 'balance': 15.739997999999996, 'status': 'buy 1 unit, cost 27.309999', 'timestamp': '2023-12-11 20:15:20.842721'}\n",
      "{'action': 'buy', 'balance': -10.710003000000004, 'status': 'buy 1 unit, cost 26.450001', 'timestamp': '2023-12-11 20:15:22.910211'}\n",
      "{'action': 'nothing', 'balance': -10.710003000000004, 'status': 'do nothing', 'timestamp': '2023-12-11 20:15:24.968930'}\n",
      "{'action': 'sell', 'balance': 17.969996999999996, 'gain': -4.25, 'investment': -12.90616459155785, 'status': 'sell 1 unit, price 28.680000', 'timestamp': '2023-12-11 20:15:27.000902'}\n",
      "{'action': 'buy', 'balance': -10.460003000000004, 'status': 'buy 1 unit, cost 28.430000', 'timestamp': '2023-12-11 20:15:29.048153'}\n",
      "{'action': 'nothing', 'balance': -10.460003000000004, 'status': 'do nothing', 'timestamp': '2023-12-11 20:15:31.098053'}\n",
      "{'action': 'sell', 'balance': 18.349995999999997, 'gain': 1.5, 'investment': 5.492493793207389, 'status': 'sell 1 unit, price 28.809999', 'timestamp': '2023-12-11 20:15:33.138425'}\n",
      "{'action': 'sell', 'balance': 46.339996, 'gain': 1.5399990000000017, 'investment': 5.822302237342077, 'status': 'sell 1 unit, price 27.990000', 'timestamp': '2023-12-11 20:15:35.186570'}\n",
      "{'action': 'sell', 'balance': 76.289997, 'gain': 1.5200010000000006, 'investment': 5.3464685191698935, 'status': 'sell 1 unit, price 29.950001', 'timestamp': '2023-12-11 20:15:37.244466'}\n",
      "{'action': 'nothing', 'balance': 76.289997, 'status': 'do nothing', 'timestamp': '2023-12-11 20:15:39.292270'}\n",
      "{'action': 'nothing', 'balance': 76.289997, 'status': 'do nothing', 'timestamp': '2023-12-11 20:15:41.348947'}\n",
      "{'action': 'nothing', 'balance': 76.289997, 'status': 'do nothing', 'timestamp': '2023-12-11 20:15:43.398252'}\n",
      "{'action': 'nothing', 'balance': 76.289997, 'status': 'do nothing', 'timestamp': '2023-12-11 20:15:45.448092'}\n",
      "{'action': 'nothing', 'balance': 76.289997, 'status': 'do nothing', 'timestamp': '2023-12-11 20:15:47.494154'}\n",
      "{'action': 'nothing', 'balance': 76.289997, 'status': 'do nothing', 'timestamp': '2023-12-11 20:15:49.550133'}\n",
      "{'action': 'nothing', 'balance': 76.289997, 'status': 'do nothing', 'timestamp': '2023-12-11 20:15:51.602851'}\n",
      "{'action': 'nothing', 'balance': 76.289997, 'status': 'do nothing', 'timestamp': '2023-12-11 20:15:53.646796'}\n",
      "{'action': 'nothing', 'balance': 76.289997, 'status': 'do nothing', 'timestamp': '2023-12-11 20:15:55.679408'}\n",
      "{'action': 'nothing', 'balance': 76.289997, 'status': 'do nothing', 'timestamp': '2023-12-11 20:15:57.737394'}\n",
      "{'action': 'buy', 'balance': 44.039997, 'status': 'buy 1 unit, cost 32.250000', 'timestamp': '2023-12-11 20:15:59.794686'}\n",
      "{'action': 'buy', 'balance': 13.069997999999998, 'status': 'buy 1 unit, cost 30.969999', 'timestamp': '2023-12-11 20:16:01.835602'}\n",
      "{'action': 'nothing', 'balance': 13.069997999999998, 'status': 'do nothing', 'timestamp': '2023-12-11 20:16:03.884873'}\n",
      "{'action': 'nothing', 'balance': 13.069997999999998, 'status': 'do nothing', 'timestamp': '2023-12-11 20:16:06.010391'}\n",
      "{'action': 'nothing', 'balance': 13.069997999999998, 'status': 'do nothing', 'timestamp': '2023-12-11 20:16:08.078210'}\n",
      "{'action': 'nothing', 'balance': 13.069997999999998, 'status': 'do nothing', 'timestamp': '2023-12-11 20:16:10.118379'}\n",
      "{'action': 'nothing', 'balance': 13.069997999999998, 'status': 'do nothing', 'timestamp': '2023-12-11 20:16:12.164511'}\n",
      "{'action': 'nothing', 'balance': 13.069997999999998, 'status': 'do nothing', 'timestamp': '2023-12-11 20:16:14.218415'}\n",
      "{'action': 'nothing', 'balance': 13.069997999999998, 'status': 'do nothing', 'timestamp': '2023-12-11 20:16:16.265310'}\n",
      "{'action': 'nothing', 'balance': 13.069997999999998, 'status': 'do nothing', 'timestamp': '2023-12-11 20:16:18.309817'}\n",
      "{'action': 'nothing', 'balance': 13.069997999999998, 'status': 'do nothing', 'timestamp': '2023-12-11 20:16:20.352141'}\n",
      "{'action': 'sell', 'balance': 47.229997999999995, 'gain': 1.9099999999999966, 'investment': 5.922480620155028, 'status': 'sell 1 unit, price 34.160000', 'timestamp': '2023-12-11 20:16:22.398299'}\n",
      "{'action': 'nothing', 'balance': 47.229997999999995, 'status': 'do nothing', 'timestamp': '2023-12-11 20:16:24.433154'}\n",
      "{'action': 'nothing', 'balance': 47.229997999999995, 'status': 'do nothing', 'timestamp': '2023-12-11 20:16:26.462285'}\n",
      "{'action': 'buy', 'balance': 16.999997999999994, 'status': 'buy 1 unit, cost 30.230000', 'timestamp': '2023-12-11 20:16:28.508303'}\n",
      "{'action': 'nothing', 'balance': 16.999997999999994, 'status': 'do nothing', 'timestamp': '2023-12-11 20:16:30.548337'}\n",
      "{'action': 'sell', 'balance': 48.11999899999999, 'gain': 0.15000199999999708, 'investment': 0.48434615706638245, 'status': 'sell 1 unit, price 31.120001', 'timestamp': '2023-12-11 20:16:32.578599'}\n",
      "{'action': 'sell', 'balance': 79.07999799999999, 'gain': 0.7299989999999994, 'investment': 2.4148164075421743, 'status': 'sell 1 unit, price 30.959999', 'timestamp': '2023-12-11 20:16:34.637756'}\n",
      "{'action': 'nothing', 'balance': 79.07999799999999, 'status': 'do nothing', 'timestamp': '2023-12-11 20:16:36.687689'}\n",
      "{'action': 'nothing', 'balance': 79.07999799999999, 'status': 'do nothing', 'timestamp': '2023-12-11 20:16:38.734366'}\n",
      "{'action': 'nothing', 'balance': 79.07999799999999, 'status': 'do nothing', 'timestamp': '2023-12-11 20:16:40.786385'}\n",
      "{'action': 'nothing', 'balance': 79.07999799999999, 'status': 'do nothing', 'timestamp': '2023-12-11 20:16:42.832200'}\n",
      "{'action': 'nothing', 'balance': 79.07999799999999, 'status': 'do nothing', 'timestamp': '2023-12-11 20:16:44.874019'}\n",
      "{'action': 'nothing', 'balance': 79.07999799999999, 'status': 'do nothing', 'timestamp': '2023-12-11 20:16:46.906654'}\n",
      "{'action': 'nothing', 'balance': 79.07999799999999, 'status': 'do nothing', 'timestamp': '2023-12-11 20:16:48.965343'}\n",
      "{'action': 'nothing', 'balance': 79.07999799999999, 'status': 'do nothing', 'timestamp': '2023-12-11 20:16:51.008231'}\n",
      "{'action': 'nothing', 'balance': 79.07999799999999, 'status': 'do nothing', 'timestamp': '2023-12-11 20:16:53.053434'}\n",
      "{'action': 'nothing', 'balance': 79.07999799999999, 'status': 'do nothing', 'timestamp': '2023-12-11 20:16:55.090010'}\n",
      "{'action': 'nothing', 'balance': 79.07999799999999, 'status': 'do nothing', 'timestamp': '2023-12-11 20:16:57.136600'}\n",
      "{'action': 'nothing', 'balance': 79.07999799999999, 'status': 'do nothing', 'timestamp': '2023-12-11 20:16:59.181140'}\n",
      "{'action': 'nothing', 'balance': 79.07999799999999, 'status': 'do nothing', 'timestamp': '2023-12-11 20:17:01.232464'}\n",
      "{'action': 'nothing', 'balance': 79.07999799999999, 'status': 'do nothing', 'timestamp': '2023-12-11 20:17:03.265756'}\n",
      "{'action': 'nothing', 'balance': 79.07999799999999, 'status': 'do nothing', 'timestamp': '2023-12-11 20:17:05.314601'}\n",
      "{'action': 'buy', 'balance': 48.20999699999999, 'status': 'buy 1 unit, cost 30.870001', 'timestamp': '2023-12-11 20:17:07.357456'}\n"
     ]
    }
   ],
   "source": [
    "for i in range(200):\n",
    "    data = json.dumps([close[i], volume[i]])\n",
    "    requested = requests.get('http://localhost:8005/trade?data=' + data).json()\n",
    "    print(requested)"
   ]
  },
  {
   "cell_type": "code",
   "execution_count": null,
   "metadata": {},
   "outputs": [],
   "source": []
  }
 ],
 "metadata": {
  "kernelspec": {
   "display_name": "Python 3",
   "language": "python",
   "name": "python3"
  },
  "language_info": {
   "codemirror_mode": {
    "name": "ipython",
    "version": 3
   },
   "file_extension": ".py",
   "mimetype": "text/x-python",
   "name": "python",
   "nbconvert_exporter": "python",
   "pygments_lexer": "ipython3",
   "version": "3.6.8"
  }
 },
 "nbformat": 4,
 "nbformat_minor": 2
}
