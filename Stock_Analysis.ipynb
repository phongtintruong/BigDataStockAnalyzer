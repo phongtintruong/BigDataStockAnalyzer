{
 "cells": [
  {
   "cell_type": "code",
   "execution_count": 1,
   "id": "d3e427e4",
   "metadata": {},
   "outputs": [],
   "source": [
    "import pandas as pd"
   ]
  },
  {
   "cell_type": "code",
   "execution_count": 2,
   "id": "def17f17",
   "metadata": {},
   "outputs": [
    {
     "data": {
      "text/plain": [
       "'D:\\\\Foundation for CS\\\\spark\\\\spark-3.5.0-bin-hadoop3'"
      ]
     },
     "execution_count": 2,
     "metadata": {},
     "output_type": "execute_result"
    }
   ],
   "source": [
    "import findspark\n",
    "findspark.init()\n",
    "findspark.find()"
   ]
  },
  {
   "cell_type": "code",
   "execution_count": 3,
   "id": "a2b942e7",
   "metadata": {},
   "outputs": [],
   "source": [
    "from pyspark.sql import SparkSession"
   ]
  },
  {
   "cell_type": "code",
   "execution_count": 4,
   "id": "5e7414eb",
   "metadata": {},
   "outputs": [
    {
     "name": "stdout",
     "output_type": "stream",
     "text": [
      "root\n",
      " |-- GiaCaoNhat: double (nullable = true)\n",
      " |-- GiaDieuChinh: double (nullable = true)\n",
      " |-- GiaDongCua: double (nullable = true)\n",
      " |-- GiaMoCua: double (nullable = true)\n",
      " |-- GiaThapNhat: double (nullable = true)\n",
      " |-- GiaTriKhopLenh: long (nullable = true)\n",
      " |-- GtThoaThuan: long (nullable = true)\n",
      " |-- KLThoaThuan: long (nullable = true)\n",
      " |-- KhoiLuongKhopLenh: long (nullable = true)\n",
      " |-- ThayDoi: string (nullable = true)\n",
      " |-- date: string (nullable = true)\n",
      "\n",
      "+----------+------------+----------+--------+-----------+--------------+------------+-----------+-----------------+--------------+----------+\n",
      "|GiaCaoNhat|GiaDieuChinh|GiaDongCua|GiaMoCua|GiaThapNhat|GiaTriKhopLenh| GtThoaThuan|KLThoaThuan|KhoiLuongKhopLenh|       ThayDoi|      date|\n",
      "+----------+------------+----------+--------+-----------+--------------+------------+-----------+-----------------+--------------+----------+\n",
      "|      18.8|       18.75|     18.75|    18.7|       18.6|   41730000000|           0|          0|          2230100|  0.05(0.27 %)|08/12/2023|\n",
      "|      18.8|       18.65|     18.65|    18.7|       18.3|  166247000000|           0|          0|          8928500|  0.05(0.27 %)|07/12/2023|\n",
      "|      18.8|       18.45|     18.45|    18.6|      18.45|  146731000000|           0|          0|          7885300|     0(0.00 %)|06/12/2023|\n",
      "|      18.5|        18.3|      18.3|    18.5|      18.15|  116273000000|           0|          0|          6338200| -0.2(-1.08 %)|05/12/2023|\n",
      "|      18.6|        18.5|      18.5|   18.25|       18.1|  124316000000|  5096000000|     280000|          6760300|   0.3(1.65 %)|04/12/2023|\n",
      "|      18.2|        18.2|      18.2|   18.05|      17.85|  121263000000|  1620000000|      90000|          6751200|   0.2(1.11 %)|01/12/2023|\n",
      "|     18.15|        18.0|      18.0|    18.0|       17.9|  107779000000|   397100000|      22000|          5982100|-0.05(-0.28 %)|30/11/2023|\n",
      "|      18.4|       18.05|     18.05|    18.1|      17.95|  126658000000| 35972000000|    2116000|          6975600|     0(0.00 %)|29/11/2023|\n",
      "|     18.15|       18.05|     18.05|    18.1|       17.8|   96580000000|   416300000|      23000|          5363700|-0.05(-0.28 %)|28/11/2023|\n",
      "|      18.4|        18.1|      18.1|    18.4|      17.85|  114271000000|           0|          0|          6316400| -0.2(-1.09 %)|27/11/2023|\n",
      "|      18.4|        18.3|      18.3|    18.1|      18.05|  104751000000| 92055000000|    5100000|          5753900|  0.25(1.39 %)|24/11/2023|\n",
      "|     18.65|       18.05|     18.05|   18.65|      18.05|  133699000000|240230000000|   13550000|          7224200|-0.55(-2.96 %)|23/11/2023|\n",
      "|      18.8|        18.6|      18.6|   18.75|      18.45|  124294000000|  4407915000|     237300|          6671100| -0.1(-0.53 %)|22/11/2023|\n",
      "|      18.8|        18.7|      18.7|   18.75|       18.5|  125247000000|203235017500|   11610601|          6718100|     0(0.00 %)|21/11/2023|\n",
      "|      18.8|        18.7|      18.7|    18.2|      18.15|  142475000000|141293500000|    7691000|          7708400|   0.2(1.08 %)|20/11/2023|\n",
      "|      19.0|        18.5|      18.5|   18.95|      18.25|  147238000000| 81030200000|    4276000|          7864400|-0.45(-2.37 %)|17/11/2023|\n",
      "|     19.05|       18.95|     18.95|   19.05|      18.75|  149592000000|           0|          0|          7934600|  0.05(0.26 %)|16/11/2023|\n",
      "|     19.15|        18.9|      18.9|    19.0|       18.9|  191141000000|  8750000000|     500000|         10047000|  0.15(0.80 %)|15/11/2023|\n",
      "|     18.95|       18.75|     18.75|   18.85|      18.55|  169135000000| 36548560000|    2005600|          9038100|-0.05(-0.27 %)|14/11/2023|\n",
      "|      18.9|        18.8|      18.8|   18.85|       18.4|  199329000000| 70400000000|    4000000|         10662200|-0.05(-0.27 %)|13/11/2023|\n",
      "+----------+------------+----------+--------+-----------+--------------+------------+-----------+-----------------+--------------+----------+\n",
      "only showing top 20 rows\n",
      "\n"
     ]
    }
   ],
   "source": [
    "# Create a Spark session\n",
    "spark = SparkSession.builder \\\n",
    "    .appName(\"Finance Data with PySpark\") \\\n",
    "    .getOrCreate()\n",
    "\n",
    "# Read data from the json line file obtained from \n",
    "data_spark = spark.read.json('PriceHistory.jsonl')\n",
    "\n",
    "# Show the DataFrame schema and sample data\n",
    "data_spark.printSchema()\n",
    "data_spark.show() "
   ]
  },
  {
   "cell_type": "code",
   "execution_count": 5,
   "id": "e4343f89",
   "metadata": {},
   "outputs": [
    {
     "name": "stdout",
     "output_type": "stream",
     "text": [
      "root\n",
      " |-- GiaCaoNhat: double (nullable = true)\n",
      " |-- GiaDieuChinh: double (nullable = true)\n",
      " |-- GiaDongCua: double (nullable = true)\n",
      " |-- GiaMoCua: double (nullable = true)\n",
      " |-- GiaThapNhat: double (nullable = true)\n",
      " |-- GiaTriKhopLenh: long (nullable = true)\n",
      " |-- GtThoaThuan: long (nullable = true)\n",
      " |-- KLThoaThuan: long (nullable = true)\n",
      " |-- KhoiLuongKhopLenh: long (nullable = true)\n",
      " |-- ThayDoi: string (nullable = true)\n",
      " |-- date: date (nullable = true)\n",
      "\n"
     ]
    }
   ],
   "source": [
    "from datetime import datetime\n",
    "from pyspark.sql.functions import col\n",
    "from pyspark.sql.functions import udf, month, dayofweek\n",
    "from pyspark.sql.types import DateType\n",
    "\n",
    "# Setting a user defined function:\n",
    "# This function converts the string cell into a date:\n",
    "func =  udf (lambda x: datetime.strptime(x, '%d/%m/%Y'), DateType())\n",
    "data_spark = data_spark.withColumn('date', func(col('date')))\n",
    "data_spark.printSchema()"
   ]
  },
  {
   "cell_type": "code",
   "execution_count": 6,
   "id": "ce0026ba",
   "metadata": {},
   "outputs": [
    {
     "name": "stdout",
     "output_type": "stream",
     "text": [
      "+-------+------------------+------------------+------------------+-----------------+------------------+--------------------+--------------------+------------------+------------------+--------------+\n",
      "|summary|        GiaCaoNhat|      GiaDieuChinh|        GiaDongCua|         GiaMoCua|       GiaThapNhat|      GiaTriKhopLenh|         GtThoaThuan|       KLThoaThuan| KhoiLuongKhopLenh|       ThayDoi|\n",
      "+-------+------------------+------------------+------------------+-----------------+------------------+--------------------+--------------------+------------------+------------------+--------------+\n",
      "|  count|              1479|              1479|              1479|             1479|              1479|                1479|                1479|              1479|              1479|          1479|\n",
      "|   mean|27.474171737660587|13.179154834347544|27.123394185260306|27.11663286004058|26.714604462474632|7.962319958755916E10|2.429093607649087E10|1032499.5490196078|2956606.3488843814|          NULL|\n",
      "| stddev| 7.292220786952955| 3.799607134055889|7.1845240175948835|7.173937278100767| 7.045561878307706|7.705961654656502E10|6.310626291659582...|2775761.5147317643|2533836.4013095396|          NULL|\n",
      "|    min|              14.5|              5.52|              14.0|            13.35|             13.05|          8405000000|                   0|                 0|            299190|-0.05(-0.11 %)|\n",
      "|    max|              52.4|             22.11|              51.8|             51.9|              50.6|       1239286000000|        597895095250|          27415000|          32205910|  6.6(20.00 %)|\n",
      "+-------+------------------+------------------+------------------+-----------------+------------------+--------------------+--------------------+------------------+------------------+--------------+\n",
      "\n"
     ]
    }
   ],
   "source": [
    "data_spark.describe().show()"
   ]
  },
  {
   "cell_type": "code",
   "execution_count": 7,
   "id": "a51810c0",
   "metadata": {},
   "outputs": [
    {
     "name": "stdout",
     "output_type": "stream",
     "text": [
      "2018-04-18\n",
      "52.4\n"
     ]
    }
   ],
   "source": [
    "print(data_spark.orderBy(data_spark[\"GiaCaoNhat\"].desc()).head(1)[0][10]) # date\n",
    "print(data_spark.orderBy(data_spark[\"GiaCaoNhat\"].desc()).head(1)[0][0]) # price"
   ]
  },
  {
   "cell_type": "code",
   "execution_count": 8,
   "id": "1561c9f1",
   "metadata": {},
   "outputs": [
    {
     "name": "stdout",
     "output_type": "stream",
     "text": [
      "+-------+--------------------+\n",
      "|summary|              Return|\n",
      "+-------+--------------------+\n",
      "|  count|                1479|\n",
      "|   mean|0.006761325219743...|\n",
      "| stddev|  0.5944843382137692|\n",
      "|    min| -2.8999999999999986|\n",
      "|    max|  3.1999999999999957|\n",
      "+-------+--------------------+\n",
      "\n"
     ]
    }
   ],
   "source": [
    "#Giá trị lợi nhuận thấp nhất\n",
    "data_spark = data_spark.withColumn(\"Return\", data_spark[\"GiaDongCua\"]-data_spark[\"GiaMoCua\"])\n",
    "data_spark.select('Return').describe().show()"
   ]
  },
  {
   "cell_type": "code",
   "execution_count": 9,
   "id": "ecfd3794",
   "metadata": {},
   "outputs": [
    {
     "name": "stdout",
     "output_type": "stream",
     "text": [
      "+-------+--------------------+\n",
      "|summary|           ReturnPCT|\n",
      "+-------+--------------------+\n",
      "|  count|                1479|\n",
      "|   mean|-0.00185971527951...|\n",
      "| stddev|  2.0408231111659716|\n",
      "|    min|  -9.407665505226479|\n",
      "|    max|   9.417040358744401|\n",
      "+-------+--------------------+\n",
      "\n"
     ]
    }
   ],
   "source": [
    "#Tỷ lệ lợi nhuận thấp nhất\n",
    "data_spark = data_spark.withColumn(\"ReturnPCT\", (data_spark[\"Return\"]/data_spark[\"GiaDongCua\"])*100)\n",
    "data_spark.select('ReturnPCT').describe().show()"
   ]
  },
  {
   "cell_type": "code",
   "execution_count": 10,
   "id": "b1b73f26",
   "metadata": {},
   "outputs": [
    {
     "name": "stdout",
     "output_type": "stream",
     "text": [
      "2022-11-07\n",
      "-9.407665505226479\n"
     ]
    }
   ],
   "source": [
    "print(data_spark.orderBy(data_spark[\"ReturnPCT\"].asc()).head(1)[0][10]) # date\n",
    "print(data_spark.orderBy(data_spark[\"ReturnPCT\"].asc()).head(1)[0][12]) # returnPCT\n"
   ]
  },
  {
   "cell_type": "code",
   "execution_count": null,
   "id": "ba0df7f7",
   "metadata": {},
   "outputs": [],
   "source": []
  },
  {
   "cell_type": "code",
   "execution_count": 11,
   "id": "dc5294ea",
   "metadata": {},
   "outputs": [
    {
     "data": {
      "text/plain": [
       "[Row(month=4, avg(Return)=-0.06271186440677946),\n",
       " Row(month=10, avg(Return)=-0.058712121212121146),\n",
       " Row(month=12, avg(Return)=-0.01853448275862066),\n",
       " Row(month=9, avg(Return)=-0.014705882352941117),\n",
       " Row(month=7, avg(Return)=-0.014015151515151257),\n",
       " Row(month=11, avg(Return)=-0.010465116279069585),\n",
       " Row(month=3, avg(Return)=0.003358208955223902),\n",
       " Row(month=6, avg(Return)=0.02054263565891458),\n",
       " Row(month=2, avg(Return)=0.03118811881188114),\n",
       " Row(month=5, avg(Return)=0.0560483870967741),\n",
       " Row(month=8, avg(Return)=0.06231343283582091),\n",
       " Row(month=1, avg(Return)=0.09639639639639648)]"
      ]
     },
     "execution_count": 11,
     "metadata": {},
     "output_type": "execute_result"
    }
   ],
   "source": [
    "#Tháng nào có trung bình daily return cao nhất?\n",
    "data_spark = data_spark.withColumn('date_string', data_spark['date'].cast('string'))\n",
    "\n",
    "data_spark.groupBy(month(\"date_string\").alias(\"month\")).agg({'Return': 'mean'}).orderBy('avg(Return)').collect()"
   ]
  },
  {
   "cell_type": "code",
   "execution_count": 13,
   "id": "40067469",
   "metadata": {},
   "outputs": [
    {
     "data": {
      "text/plain": [
       "[Row(DayOfWeek=2, avg(Return)=-0.0860344827586207),\n",
       " Row(DayOfWeek=5, avg(Return)=-0.03394648829431419),\n",
       " Row(DayOfWeek=3, avg(Return)=0.006081081081081138),\n",
       " Row(DayOfWeek=4, avg(Return)=0.05219594594594593),\n",
       " Row(DayOfWeek=6, avg(Return)=0.09345637583892623)]"
      ]
     },
     "execution_count": 13,
     "metadata": {},
     "output_type": "execute_result"
    }
   ],
   "source": [
    "#Ngày nào trong tuần có trung bình giá trị lợi nhuận cao nhất\n",
    "data_spark = data_spark.withColumn(\"DayOfWeek\", dayofweek(data_spark['date']))\n",
    "data_spark.groupBy('DayOfWeek').agg({'Return': 'mean'}).orderBy('avg(Return)').collect()"
   ]
  },
  {
   "cell_type": "code",
   "execution_count": 15,
   "id": "a71fd38c",
   "metadata": {},
   "outputs": [
    {
     "name": "stdout",
     "output_type": "stream",
     "text": [
      "root\n",
      " |-- GiaCaoNhat: double (nullable = true)\n",
      " |-- GiaDieuChinh: double (nullable = true)\n",
      " |-- GiaDongCua: double (nullable = true)\n",
      " |-- GiaMoCua: double (nullable = true)\n",
      " |-- GiaThapNhat: double (nullable = true)\n",
      " |-- GiaTriKhopLenh: long (nullable = true)\n",
      " |-- GtThoaThuan: long (nullable = true)\n",
      " |-- KLThoaThuan: long (nullable = true)\n",
      " |-- KhoiLuongKhopLenh: long (nullable = true)\n",
      " |-- ThayDoi: string (nullable = true)\n",
      " |-- date: date (nullable = true)\n",
      " |-- Return: double (nullable = true)\n",
      " |-- ReturnPCT: double (nullable = true)\n",
      " |-- date_string: string (nullable = true)\n",
      " |-- DayOfWeek: integer (nullable = true)\n",
      " |-- DayTrading: double (nullable = true)\n",
      "\n"
     ]
    }
   ],
   "source": [
    "data_spark.printSchema()"
   ]
  },
  {
   "cell_type": "code",
   "execution_count": 18,
   "id": "ea31a905",
   "metadata": {},
   "outputs": [
    {
     "name": "stdout",
     "output_type": "stream",
     "text": [
      "2019-01-10\n",
      "0.5172413793103522\n"
     ]
    }
   ],
   "source": [
    "#Ngày có dao động giao dịch trong ngày (Day trading) thấp nhất\n",
    "day_trading_formula = 100 * (col('GiaCaoNhat') - col('GiaThapNhat')) / col('GiaDongCua')\n",
    "data_spark = data_spark.withColumn(\"DayTrading\", day_trading_formula)\n",
    "\n",
    "#data_spark.select(['High','Low','Close','DayTrading']).show()\n",
    "print(data_spark.orderBy(data_spark[\"DayTrading\"].asc()).head(1)[0][10]) # date\n",
    "print(data_spark.orderBy(data_spark[\"DayTrading\"].asc()).head(1)[0][15]) # returnPCT"
   ]
  },
  {
   "cell_type": "code",
   "execution_count": 20,
   "id": "3316a34a",
   "metadata": {},
   "outputs": [],
   "source": [
    "# Moving avg: đường nối tất cả những giá đóng cửa trung bình trong 50 ngày gần nhất\n",
    "from pyspark.sql.window import Window\n",
    "from pyspark.sql.functions import avg\n",
    "windowSpec = Window.orderBy(col(\"date\")).rowsBetween(-50, 0)\n",
    "\n",
    "data_spark = data_spark.withColumn('50DMA', avg(\"GiaDongCua\").over(windowSpec)) "
   ]
  },
  {
   "cell_type": "code",
   "execution_count": 21,
   "id": "5f8e1013",
   "metadata": {},
   "outputs": [
    {
     "name": "stdout",
     "output_type": "stream",
     "text": [
      "+----------+----------+------------------+-------------------+\n",
      "|      date|GiaDongCua|             50DMA|         50_DMA_DEV|\n",
      "+----------+----------+------------------+-------------------+\n",
      "|2018-01-05|      39.6|              39.6|                0.0|\n",
      "|2018-01-08|      39.7|39.650000000000006|0.12602396122877732|\n",
      "|2018-01-09|     39.75| 39.68333333333334|0.16785568355787414|\n",
      "|2018-01-10|      40.3|39.837500000000006|   1.15427892091823|\n",
      "|2018-01-11|      42.5|40.370000000000005| 5.1417141065521506|\n",
      "|2018-01-12|     45.45| 41.21666666666667|   9.77701153241724|\n",
      "|2018-01-15|      45.5| 41.82857142857143|   8.41326929250616|\n",
      "|2018-01-16|     44.95|          42.21875|  6.268632575715697|\n",
      "|2018-01-17|      42.7| 42.27222222222222|  1.006873494826658|\n",
      "|2018-01-18|      44.0|            42.445|  3.598051372832993|\n",
      "|2018-01-19|      45.2|42.695454545454545|  5.700462319603171|\n",
      "|2018-01-22|      45.3|42.912499999999994|  5.414387370517787|\n",
      "|2018-01-25|      47.8| 43.28846153846153|  9.913951717210557|\n",
      "|2018-01-26|      47.0| 43.55357142857142|  7.615589422928758|\n",
      "|2018-01-29|     47.05|43.786666666666655|  7.188150899538052|\n",
      "|2018-01-30|      47.0| 43.98749999999999|   6.62420990623553|\n",
      "|2018-01-31|      46.6| 44.14117647058823|  5.420748749580154|\n",
      "|2018-02-01|      46.0| 44.24444444444444| 3.8911582195218535|\n",
      "|2018-02-02|      46.0| 44.33684210526315|  3.682541483576977|\n",
      "|2018-02-05|      43.0|44.269999999999996| -2.910713105048709|\n",
      "+----------+----------+------------------+-------------------+\n",
      "only showing top 20 rows\n",
      "\n"
     ]
    }
   ],
   "source": [
    "#Độ lệch so với đường\n",
    "from pyspark.sql.functions import log \n",
    "deviation = log(col('GiaDongCua')/col('50DMA'))*100\n",
    "data_spark = data_spark.withColumn(\"50_DMA_DEV\", deviation)\n",
    "data_spark.select(['date','GiaDongCua','50DMA','50_DMA_DEV']).show()"
   ]
  },
  {
   "cell_type": "code",
   "execution_count": 23,
   "id": "b5172695",
   "metadata": {},
   "outputs": [
    {
     "name": "stdout",
     "output_type": "stream",
     "text": [
      "2020-06-03\n",
      "27.49892043323719\n"
     ]
    }
   ],
   "source": [
    "#Ngày có lệch nhiều nhất\n",
    "print(data_spark.orderBy(data_spark[\"50_DMA_DEV\"].desc()).head(1)[0][10]) # date\n",
    "print(data_spark.orderBy(data_spark[\"50_DMA_DEV\"].desc()).head(1)[0][17]) # dev "
   ]
  },
  {
   "cell_type": "code",
   "execution_count": 24,
   "id": "845bd9c7",
   "metadata": {},
   "outputs": [
    {
     "data": {
      "text/plain": [
       "[Row(month=7, avg(KhoiLuongKhopLenh)=1967880.8333333333),\n",
       " Row(month=8, avg(KhoiLuongKhopLenh)=2045878.880597015),\n",
       " Row(month=6, avg(KhoiLuongKhopLenh)=2219920.465116279),\n",
       " Row(month=9, avg(KhoiLuongKhopLenh)=2656072.5210084035),\n",
       " Row(month=5, avg(KhoiLuongKhopLenh)=2737692.8225806453),\n",
       " Row(month=3, avg(KhoiLuongKhopLenh)=2870759.925373134),\n",
       " Row(month=4, avg(KhoiLuongKhopLenh)=2923839.1525423727),\n",
       " Row(month=10, avg(KhoiLuongKhopLenh)=3002650.5303030303),\n",
       " Row(month=2, avg(KhoiLuongKhopLenh)=3067721.089108911),\n",
       " Row(month=12, avg(KhoiLuongKhopLenh)=3606062.8448275863),\n",
       " Row(month=1, avg(KhoiLuongKhopLenh)=4019057.927927928),\n",
       " Row(month=11, avg(KhoiLuongKhopLenh)=4625528.682170543)]"
      ]
     },
     "execution_count": 24,
     "metadata": {},
     "output_type": "execute_result"
    }
   ],
   "source": [
    "#Tháng giao dịch sôi động nhất, nhiều khối lượng khớp lệnh nhất\n",
    "data_spark.groupBy(month(\"date_string\").alias(\"month\")).agg({'KhoiLuongKhopLenh': 'mean'}).orderBy('avg(KhoiLuongKhopLenh)').collect()"
   ]
  },
  {
   "cell_type": "code",
   "execution_count": 25,
   "id": "ffa53308",
   "metadata": {},
   "outputs": [
    {
     "data": {
      "text/plain": [
       "[Row(Year=2023, max(GiaCaoNhat)=20.1),\n",
       " Row(Year=2020, max(GiaCaoNhat)=32.0),\n",
       " Row(Year=2019, max(GiaCaoNhat)=32.35),\n",
       " Row(Year=2022, max(GiaCaoNhat)=32.5),\n",
       " Row(Year=2021, max(GiaCaoNhat)=37.9),\n",
       " Row(Year=2018, max(GiaCaoNhat)=52.4)]"
      ]
     },
     "execution_count": 25,
     "metadata": {},
     "output_type": "execute_result"
    }
   ],
   "source": [
    "# các giá trị sàn của mỗi năm\n",
    "from pyspark.sql.functions import year\n",
    "data_spark.groupBy(year(\"date_string\").alias(\"Year\")).agg({'GiaCaoNhat': 'max'}).orderBy('max(GiaCaoNhat)').collect()\n"
   ]
  },
  {
   "cell_type": "code",
   "execution_count": null,
   "id": "23831f84",
   "metadata": {},
   "outputs": [],
   "source": []
  }
 ],
 "metadata": {
  "kernelspec": {
   "display_name": "Python 3 (ipykernel)",
   "language": "python",
   "name": "python3"
  },
  "language_info": {
   "codemirror_mode": {
    "name": "ipython",
    "version": 3
   },
   "file_extension": ".py",
   "mimetype": "text/x-python",
   "name": "python",
   "nbconvert_exporter": "python",
   "pygments_lexer": "ipython3",
   "version": "3.9.13"
  }
 },
 "nbformat": 4,
 "nbformat_minor": 5
}
